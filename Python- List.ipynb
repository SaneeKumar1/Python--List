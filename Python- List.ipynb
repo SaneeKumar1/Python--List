{
 "cells": [
  {
   "cell_type": "raw",
   "id": "e57324bb-6ec9-4609-8a9e-4fdaa00d8403",
   "metadata": {},
   "source": [
    "Q1. Create an empty list."
   ]
  },
  {
   "cell_type": "code",
   "execution_count": 3,
   "id": "c6722a30-83f0-4c03-862e-812bec7533ea",
   "metadata": {},
   "outputs": [],
   "source": [
    "l=[]"
   ]
  },
  {
   "cell_type": "raw",
   "id": "106683e5-aafe-473a-af7f-f6b336797226",
   "metadata": {},
   "source": [
    "Q2. Create a list and add an element to the end of this list."
   ]
  },
  {
   "cell_type": "code",
   "execution_count": 8,
   "id": "7a871e3a-3575-4144-85f8-b7a9a20c4cb3",
   "metadata": {},
   "outputs": [],
   "source": [
    "l1=[2,4,6,5,7]"
   ]
  },
  {
   "cell_type": "code",
   "execution_count": 9,
   "id": "083b2840-5969-4e1f-a8eb-83c0aeb36f10",
   "metadata": {},
   "outputs": [
    {
     "data": {
      "text/plain": [
       "[2, 4, 6, 5, 7]"
      ]
     },
     "execution_count": 9,
     "metadata": {},
     "output_type": "execute_result"
    }
   ],
   "source": [
    "l1"
   ]
  },
  {
   "cell_type": "code",
   "execution_count": 10,
   "id": "698fdf78-303a-4996-b557-15e057a3b3e3",
   "metadata": {},
   "outputs": [],
   "source": [
    "l1.append(8)"
   ]
  },
  {
   "cell_type": "code",
   "execution_count": 11,
   "id": "e376df0c-eaf6-41d3-a914-fec513393bc8",
   "metadata": {},
   "outputs": [
    {
     "data": {
      "text/plain": [
       "[2, 4, 6, 5, 7, 8]"
      ]
     },
     "execution_count": 11,
     "metadata": {},
     "output_type": "execute_result"
    }
   ],
   "source": [
    "l1"
   ]
  },
  {
   "cell_type": "raw",
   "id": "1a815a2b-29a5-4f75-9f3d-a76a77b957fa",
   "metadata": {},
   "source": [
    "Q3. For the above created list print the last element."
   ]
  },
  {
   "cell_type": "code",
   "execution_count": 13,
   "id": "b6d5ac17-98b9-4858-a930-a8dffcf8f4ad",
   "metadata": {},
   "outputs": [
    {
     "data": {
      "text/plain": [
       "8"
      ]
     },
     "execution_count": 13,
     "metadata": {},
     "output_type": "execute_result"
    }
   ],
   "source": [
    "l1[-1]"
   ]
  },
  {
   "cell_type": "raw",
   "id": "588d7c75-45fb-447a-9273-8b845d96242b",
   "metadata": {},
   "source": [
    "Q4. Reverse the above created list."
   ]
  },
  {
   "cell_type": "code",
   "execution_count": 15,
   "id": "46853d38-7c68-41ea-aad1-2706d25de208",
   "metadata": {},
   "outputs": [],
   "source": [
    "l1.reverse()"
   ]
  },
  {
   "cell_type": "code",
   "execution_count": 16,
   "id": "a535a2c1-780c-4745-861a-aabb81613aa9",
   "metadata": {},
   "outputs": [
    {
     "data": {
      "text/plain": [
       "[8, 7, 5, 6, 4, 2]"
      ]
     },
     "execution_count": 16,
     "metadata": {},
     "output_type": "execute_result"
    }
   ],
   "source": [
    "l1"
   ]
  },
  {
   "cell_type": "raw",
   "id": "8ad33b87-2f52-41b1-906f-eef0d7b89843",
   "metadata": {},
   "source": [
    "Q5. Sort the above created list."
   ]
  },
  {
   "cell_type": "code",
   "execution_count": 17,
   "id": "3325395c-c278-4649-a37d-b349a566bb11",
   "metadata": {},
   "outputs": [],
   "source": [
    "l1.sort()"
   ]
  },
  {
   "cell_type": "code",
   "execution_count": 18,
   "id": "634a9f2e-7b17-4f14-9dc8-349cee34c495",
   "metadata": {},
   "outputs": [
    {
     "data": {
      "text/plain": [
       "[2, 4, 5, 6, 7, 8]"
      ]
     },
     "execution_count": 18,
     "metadata": {},
     "output_type": "execute_result"
    }
   ],
   "source": [
    "l1"
   ]
  },
  {
   "cell_type": "raw",
   "id": "f6128eb2-9cca-41a8-9e0d-c00427124bde",
   "metadata": {},
   "source": [
    "Q6. Create a list of your top three favorite movies, then print the second movie title."
   ]
  },
  {
   "cell_type": "code",
   "execution_count": 19,
   "id": "4ecf748c-ddef-448b-9d5f-328bb35fd109",
   "metadata": {},
   "outputs": [],
   "source": [
    "l2=[\"Super 30\",\"Physics Wallah\",\"Genious\"]"
   ]
  },
  {
   "cell_type": "code",
   "execution_count": 21,
   "id": "9d8c9a94-04b8-46f9-b1d1-b35b64aaa304",
   "metadata": {},
   "outputs": [
    {
     "data": {
      "text/plain": [
       "'Physics Wallah'"
      ]
     },
     "execution_count": 21,
     "metadata": {},
     "output_type": "execute_result"
    }
   ],
   "source": [
    "l2[1]"
   ]
  },
  {
   "cell_type": "raw",
   "id": "54cba98b-83b5-45e9-b9be-32b450c383c0",
   "metadata": {},
   "source": [
    "Q7. Create a list of your favorite animals, then add a new animal to the list and print the updated list."
   ]
  },
  {
   "cell_type": "code",
   "execution_count": 22,
   "id": "5f50214a-f544-4f13-9a07-6833a4621936",
   "metadata": {},
   "outputs": [],
   "source": [
    "l3=['Cow','Dog','Goat']"
   ]
  },
  {
   "cell_type": "code",
   "execution_count": 25,
   "id": "71234bda-1710-48ba-8b0a-6fe32089c058",
   "metadata": {},
   "outputs": [],
   "source": [
    "l3.append('Rabbit')"
   ]
  },
  {
   "cell_type": "code",
   "execution_count": 26,
   "id": "57c7bce6-710c-4d0d-bd97-c49a9b376060",
   "metadata": {},
   "outputs": [
    {
     "data": {
      "text/plain": [
       "['Cow', 'Dog', 'Goat', 'Rabbit']"
      ]
     },
     "execution_count": 26,
     "metadata": {},
     "output_type": "execute_result"
    }
   ],
   "source": [
    "l3"
   ]
  },
  {
   "cell_type": "raw",
   "id": "c8d04b13-e7cc-47be-bd81-ce89c25f6382",
   "metadata": {},
   "source": [
    "Q8. Create a list of your favorite cities, then use the index() method to find the position of a specific city on the list and print it."
   ]
  },
  {
   "cell_type": "code",
   "execution_count": 3,
   "id": "4428e3ac-2ac6-4f9b-9a03-73bec4d8ddb0",
   "metadata": {},
   "outputs": [],
   "source": [
    "l4=['Delhi','Agra','Mumbai','Amritsar']"
   ]
  },
  {
   "cell_type": "code",
   "execution_count": 4,
   "id": "54e00e77-33d8-40f0-9a30-14ce6ae97d98",
   "metadata": {},
   "outputs": [
    {
     "data": {
      "text/plain": [
       "2"
      ]
     },
     "execution_count": 4,
     "metadata": {},
     "output_type": "execute_result"
    }
   ],
   "source": [
    "l4.index('Mumbai')"
   ]
  },
  {
   "cell_type": "code",
   "execution_count": null,
   "id": "1554fb99-c507-49e7-a08c-55f3367878be",
   "metadata": {},
   "outputs": [],
   "source": []
  }
 ],
 "metadata": {
  "kernelspec": {
   "display_name": "Python 3 (ipykernel)",
   "language": "python",
   "name": "python3"
  },
  "language_info": {
   "codemirror_mode": {
    "name": "ipython",
    "version": 3
   },
   "file_extension": ".py",
   "mimetype": "text/x-python",
   "name": "python",
   "nbconvert_exporter": "python",
   "pygments_lexer": "ipython3",
   "version": "3.10.8"
  }
 },
 "nbformat": 4,
 "nbformat_minor": 5
}
